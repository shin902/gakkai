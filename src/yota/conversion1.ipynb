{
 "cells": [
  {
   "cell_type": "code",
   "execution_count": 3,
   "metadata": {
    "executionInfo": {
     "elapsed": 3,
     "status": "ok",
     "timestamp": 1741625634412,
     "user": {
      "displayName": "Yota Akagawa",
      "userId": "02557452911060131740"
     },
     "user_tz": -540
    },
    "id": "z_shh7Di01_S"
   },
   "outputs": [],
   "source": [
    "import cv2\n",
    "import os\n",
    "from tqdm import tqdm\n",
    "\n",
    "def extract_frames(video_path, output_folder):\n",
    "    os.makedirs(output_folder, exist_ok=True)\n",
    "\n",
    "    cap = cv2.VideoCapture(video_path)\n",
    "    if not cap.isOpened():\n",
    "        print(\"Error: Could not open video file.\")\n",
    "        return\n",
    "\n",
    "    frame_count = int(cap.get(cv2.CAP_PROP_FRAME_COUNT))\n",
    "\n",
    "    bar = tqdm(total=frame_count, dynamic_ncols=True)\n",
    "    frame_number = 0\n",
    "\n",
    "    while True:\n",
    "        ret, frame = cap.read()\n",
    "        if not ret:\n",
    "            break\n",
    "\n",
    "        frame_path = os.path.join(output_folder, f\"frame_{frame_number:06d}.jpg\")\n",
    "        cv2.imwrite(frame_path, frame)\n",
    "        frame_number += 1\n",
    "        bar.update(1)\n",
    "\n",
    "    bar.close()\n",
    "    cap.release()\n",
    "    print(f\"Extraction completed! {frame_number} frames saved in {output_folder}\")\n",
    "\n",
    "# 使い方\n",
    "# extract_frames(\"input.avi\", \"output_frames\")"
   ]
  }
 ],
 "metadata": {
  "colab": {
   "authorship_tag": "ABX9TyNTmok9SqEEuFSrUZh3UDA5",
   "provenance": []
  },
  "kernelspec": {
   "display_name": "env",
   "language": "python",
   "name": "python3"
  },
  "language_info": {
   "name": "python",
   "version": "3.9.6"
  }
 },
 "nbformat": 4,
 "nbformat_minor": 0
}
